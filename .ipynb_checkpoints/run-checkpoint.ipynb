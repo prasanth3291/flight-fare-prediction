{
 "cells": [
  {
   "cell_type": "code",
   "execution_count": 1,
   "metadata": {},
   "outputs": [
    {
     "name": "stdout",
     "output_type": "stream",
     "text": [
      "The predicted flight price is: Rs. 5516.51\n"
     ]
    }
   ],
   "source": [
    "import pickle\n",
    "import pandas as pd\n",
    "\n",
    "# Load the trained model\n",
    "model = pickle.load(open(\"flight_rf.pkl\", \"rb\"))\n",
    "\n",
    "# Prepare a sample input data point\n",
    "sample_input = {\n",
    "    'Total_Stops': 2,\n",
    "    'Journey_day': 24,\n",
    "    'Journey_month': 3,\n",
    "    'Dep_hour': 14,\n",
    "    'Dep_min': 30,\n",
    "    'Arrival_hour': 16,\n",
    "    'Arrival_min': 45,\n",
    "    'Duration_hours': 2,\n",
    "    'Duration_mins': 15,\n",
    "    'Airline_Air India': 0,\n",
    "    'Airline_GoAir': 0,\n",
    "    'Airline_IndiGo': 0,\n",
    "    'Airline_Jet Airways': 1,\n",
    "    'Airline_Jet Airways Business': 0,\n",
    "    'Airline_Multiple carriers': 0,\n",
    "    'Airline_Multiple carriers Premium economy': 0,\n",
    "    'Airline_SpiceJet': 0,\n",
    "    'Airline_Trujet': 0,\n",
    "    'Airline_Vistara': 0,\n",
    "    'Airline_Vistara Premium economy': 0,\n",
    "    'Source_Chennai': 0,\n",
    "    'Source_Delhi': 1,\n",
    "    'Source_Kolkata': 0,\n",
    "    'Source_Mumbai': 0,\n",
    "    'Destination_Cochin': 1,\n",
    "    'Destination_Delhi': 0,\n",
    "    'Destination_Hyderabad': 0,\n",
    "    'Destination_Kolkata': 0,\n",
    "    'Destination_New Delhi': 0\n",
    "}\n",
    "\n",
    "# Convert the sample input to a DataFrame\n",
    "input_df = pd.DataFrame([sample_input])\n",
    "\n",
    "# Ensure the columns are in the correct order\n",
    "input_df = input_df[['Total_Stops', 'Journey_day', 'Journey_month', 'Dep_hour',\n",
    "                     'Dep_min', 'Arrival_hour', 'Arrival_min', 'Duration_hours',\n",
    "                     'Duration_mins', 'Airline_Air India', 'Airline_GoAir', 'Airline_IndiGo',\n",
    "                     'Airline_Jet Airways', 'Airline_Jet Airways Business',\n",
    "                     'Airline_Multiple carriers',\n",
    "                     'Airline_Multiple carriers Premium economy', 'Airline_SpiceJet',\n",
    "                     'Airline_Trujet', 'Airline_Vistara', 'Airline_Vistara Premium economy',\n",
    "                     'Source_Chennai', 'Source_Delhi', 'Source_Kolkata', 'Source_Mumbai',\n",
    "                     'Destination_Cochin', 'Destination_Delhi', 'Destination_Hyderabad',\n",
    "                     'Destination_Kolkata', 'Destination_New Delhi']]\n",
    "\n",
    "# Predict the price using the model\n",
    "predicted_price = model.predict(input_df)\n",
    "\n",
    "# Print the predicted price\n",
    "print(f\"The predicted flight price is: Rs. {predicted_price[0]:.2f}\")\n"
   ]
  },
  {
   "cell_type": "code",
   "execution_count": null,
   "metadata": {},
   "outputs": [],
   "source": []
  }
 ],
 "metadata": {
  "kernelspec": {
   "display_name": "Python 3 (ipykernel)",
   "language": "python",
   "name": "python3"
  },
  "language_info": {
   "codemirror_mode": {
    "name": "ipython",
    "version": 3
   },
   "file_extension": ".py",
   "mimetype": "text/x-python",
   "name": "python",
   "nbconvert_exporter": "python",
   "pygments_lexer": "ipython3",
   "version": "3.11.7"
  }
 },
 "nbformat": 4,
 "nbformat_minor": 4
}
